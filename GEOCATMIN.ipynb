{
 "cells": [
  {
   "cell_type": "code",
   "execution_count": 71,
   "id": "166a0e85-8205-4aa6-a03b-71652f37c43b",
   "metadata": {},
   "outputs": [],
   "source": [
    "from shapely.validation import make_valid\n",
    "import rasterio\n",
    "from rasterio.features import shapes\n",
    "import geopandas as gpd\n",
    "import pandas as pd\n",
    "import numpy as np\n",
    "import os"
   ]
  },
  {
   "cell_type": "code",
   "execution_count": 7,
   "id": "78509c14-a466-4514-b395-42f1395e6ef3",
   "metadata": {
    "editable": true,
    "slideshow": {
     "slide_type": ""
    },
    "tags": []
   },
   "outputs": [],
   "source": [
    "root_dir = \"GEOCATMIN/commondata\"\n",
    "directories = [os.path.join(root_dir, d) for d in os.listdir(root_dir)\n",
    "               if os.path.isdir(os.path.join(root_dir, d)) and not any(s in d for s in [\"shp\", \"raster\"])]\n",
    "\n",
    "shp_paths = []\n",
    "for directory in directories:\n",
    "    shp_paths.extend([\n",
    "        os.path.join(directory, f) for f in os.listdir(directory) if f.endswith(\".shp\")\n",
    "    ])\n",
    "    \n",
    "Hydrogeologic_units = pd.concat([gpd.read_file(p) for p in shp_paths], ignore_index=True)"
   ]
  },
  {
   "cell_type": "code",
   "execution_count": 12,
   "id": "ad311e0c-bf04-48eb-ad19-51b9de2937e9",
   "metadata": {
    "collapsed": true,
    "editable": true,
    "jupyter": {
     "outputs_hidden": true
    },
    "scrolled": true,
    "slideshow": {
     "slide_type": ""
    },
    "tags": []
   },
   "outputs": [
    {
     "name": "stdout",
     "output_type": "stream",
     "text": [
      "['GEOCATMIN/commondata\\\\afs\\\\AFS.shp', 'GEOCATMIN/commondata\\\\afv\\\\AFV.shp', 'GEOCATMIN/commondata\\\\agm\\\\AGM.shp', 'GEOCATMIN/commondata\\\\apnc\\\\APNC-al.shp', 'GEOCATMIN/commondata\\\\apnc\\\\APNC-b.shp', 'GEOCATMIN/commondata\\\\as\\\\AS.shp', 'GEOCATMIN/commondata\\\\ati\\\\ATI.shp', 'GEOCATMIN/commondata\\\\ats\\\\ATS.shp', 'GEOCATMIN/commondata\\\\atv\\\\ATV.shp', 'GEOCATMIN/commondata\\\\atvs\\\\ATVS.shp', 'GEOCATMIN/commondata\\\\avfb\\\\AVFB.shp', 'GEOCATMIN/commondata\\\\avs\\\\AVS.shp']\n",
      "           AREA  PERIMETER  GEOLUTMM_I  CODI   NAME  \\\n",
      "0      849428.0   6368.210        1624  1624  Ki-mu   \n",
      "1     1764560.0   7754.260        3047  3047  Kis-a   \n",
      "2      235090.0   3028.980        1624  1624  Ki-mu   \n",
      "3       49083.6    932.318        3047  3047  Kis-a   \n",
      "4      615929.0   3316.420        3047  3047  Kis-a   \n",
      "...         ...        ...         ...   ...    ...   \n",
      "1695        0.0      0.000           0  3065   N-co   \n",
      "1696        0.0      0.000           0  3065   N-co   \n",
      "1697        0.0      0.000           0  3065   N-co   \n",
      "1698        0.0      0.000           0  3065   N-co   \n",
      "1699        0.0      0.000           0  1967  Nm-ca   \n",
      "\n",
      "                                                DESCRIP   HOJA  CODI_A  \\\n",
      "0     Areniscas, limolitas, lodolitas y limoarcillit...   None    1624   \n",
      "1                         Calizas masivas de color gris   None    3047   \n",
      "2     Areniscas, limolitas, lodolitas y limoarcillit...   None    1624   \n",
      "3                         Calizas masivas de color gris   None    3047   \n",
      "4                         Calizas masivas de color gris   None    3047   \n",
      "...                                                 ...    ...     ...   \n",
      "1695  Toba de cristales soldado con fenos de plagioc...  32-u4    3065   \n",
      "1696  Toba de cristales soldado con fenos de plagioc...  32-u4    3065   \n",
      "1697  Toba de cristales soldado con fenos de plagioc...  32-u4    3065   \n",
      "1698  Toba de cristales soldado con fenos de plagioc...  32-u4    3065   \n",
      "1699  areniscas tobaceas, tobas retrabajadas, conglo...   None    1967   \n",
      "\n",
      "        NAME_A                                          DESCRIP_A  \\\n",
      "0        Ki-mu  Fm. Murco - Areniscas, limolitas, lodolitas y ...   \n",
      "1       Kis-ar                     Fm. Arcurquina, calizas grises   \n",
      "2        Ki-mu  Fm. Murco - Areniscas, limolitas, lodolitas y ...   \n",
      "3       Kis-ar                     Fm. Arcurquina, calizas grises   \n",
      "4       Kis-ar                     Fm. Arcurquina, calizas grises   \n",
      "...        ...                                                ...   \n",
      "1695  N-co/tbk                                       Fm. Confital   \n",
      "1696  N-co/tbk                                       Fm. Confital   \n",
      "1697  N-co/tbk                                       Fm. Confital   \n",
      "1698  N-co/tbk                                       Fm. Confital   \n",
      "1699    Nm-cap                                Formacion Capillune   \n",
      "\n",
      "                    UNIDAD    Shape_Leng    Shape_Area    area_1 NAME_2  \\\n",
      "0          Formación Murco   6368.214024  8.494284e+05   0.84943  Ki-mu   \n",
      "1     Formación Arcurquina   7754.256254  1.764560e+06   1.76456  Kis-a   \n",
      "2          Formación Murco   3028.977872  2.350899e+05   0.23509  Ki-mu   \n",
      "3     Formación Arcurquina    932.317669  4.908359e+04   0.04908  Kis-a   \n",
      "4     Formación Arcurquina   3316.424512  6.159294e+05   0.61593  Kis-a   \n",
      "...                    ...           ...           ...       ...    ...   \n",
      "1695    Formación Confital   2512.003731  1.845245e+05   0.18511   N-co   \n",
      "1696    Formación Confital   1617.745993  1.337220e+05   0.13416   N-co   \n",
      "1697    Formación Confital   9763.100918  3.110381e+06   1.31958   N-co   \n",
      "1698    Formación Confital   6127.806838  2.207837e+06   0.43812   N-co   \n",
      "1699   Formación Capillune  31040.183208  1.333387e+07  10.41370  Nm-ca   \n",
      "\n",
      "      CODI_1 Hidro_1 Hidro_2 Vulnerabil  \\\n",
      "0       1624     AFS  AFS-mu       Baja   \n",
      "1       3047     AFS   AFS-a   Moderada   \n",
      "2       1624     AFS  AFS-mu       Baja   \n",
      "3       3047     AFS   AFS-a   Moderada   \n",
      "4       3047     AFS   AFS-a   Moderada   \n",
      "...      ...     ...     ...        ...   \n",
      "1695    3065     AVS  AVS-co       Baja   \n",
      "1696    3065     AVS  AVS-co       Baja   \n",
      "1697    3065     AVS  AVS-co       Baja   \n",
      "1698    3065     AVS  AVS-co       Baja   \n",
      "1699    1967     AVS  AVS-ca       Baja   \n",
      "\n",
      "                                               geometry  \n",
      "0     POLYGON ((821502.625 8312198.5, 821494.937 831...  \n",
      "1     POLYGON ((821502.625 8312198.5, 821499.937 831...  \n",
      "2     POLYGON ((816388.063 8311891, 816362.812 83118...  \n",
      "3     POLYGON ((816168.875 8311849.5, 816168.562 831...  \n",
      "4     POLYGON ((821294.937 8311433.5, 821301.625 831...  \n",
      "...                                                 ...  \n",
      "1695  POLYGON ((921855.175 8254795.743, 921837.02 82...  \n",
      "1696  POLYGON ((924930.152 8252810.329, 924937.203 8...  \n",
      "1697  MULTIPOLYGON (((917242.203 8249205.023, 917270...  \n",
      "1698  POLYGON ((926751.19 8245638.638, 926768.786 82...  \n",
      "1699  POLYGON ((871961.394 8310012.527, 871877.074 8...  \n",
      "\n",
      "[1700 rows x 20 columns]\n"
     ]
    }
   ],
   "source": [
    "print(shp_paths)\n",
    "print(Hydrogeologic_units)"
   ]
  },
  {
   "cell_type": "code",
   "execution_count": 16,
   "id": "8afab83e-5c3d-473e-b692-8d81319acfcf",
   "metadata": {
    "collapsed": true,
    "jupyter": {
     "outputs_hidden": true
    },
    "scrolled": true
   },
   "outputs": [
    {
     "name": "stdout",
     "output_type": "stream",
     "text": [
      "['Ki-mu' 'Kis-a' 'Js-l' 'Ki-hu' 'Jms-p' 'Ks-as' 'P-pu' 'Kis-ayb' 'Qp-col'\n",
      " 'N-dmri' 'PN-o/a' 'Qp-b/c-anda' 'NQ-b-and' None 'PP-cbc/m-gn,gra'\n",
      " 'NP-cbc-gnmg' 'PP-cbc-gn' 'MNP-cbc-pz,esq' 'Qp-al' 'Qh-al' 'Q-gl' 'Q-bi'\n",
      " 'PN-m' 'Np-mi' 'Ks-bc/t-gd' 'O-bac-gr' 'O-bac-di' 'Ks-bc/t-tn'\n",
      " 'Ks-bc/t-gr' 'Ks-bc/t-di' 'Ki-di' 'Ki-gb' 'Ks-bc/t-gr,tn' 'P-tn'\n",
      " 'Pe-hu/gr-to' 'Pp-tn,gd' 'N-dq' 'P-p-di' 'PN-ca-di' 'Jm-ca' 'Jm-so'\n",
      " 'Peo-h/t' 'Nm-pi' 'Nm-cam' 'P-so' 'Js-g' 'D-c' 'Q-qm-tr' 'Q-la' 'Ks-se'\n",
      " 'Peo-h/qu' 'Peo-h/h' 'Nm-al' 'N-and' 'Np-se' 'Np-ar' 'PN-o/m' 'N-da'\n",
      " 'Nmp-ch-da' 'P-and' 'Nm-na/da' 'Nm-ta/da' 'Ks-da' 'Nm-si' 'Nm-js-and'\n",
      " 'Nm-ja-da' 'Nm-tut-ri' 'N-cat-da' 'N-h-da' 'N-pu-prda' 'N-qu-and'\n",
      " 'Qp-b/am-tcri' 'NQ-b-tb' 'Nm-ich' 'PN-o/sr' 'Nm-p' 'PN-t' 'Ji-cho'\n",
      " 'Js-gu' 'Qp-pu' 'Qh-an' 'Nm-ma' 'Nm-ma/i' 'N-co' 'Nm-ca']\n",
      "['Ki-mu' 'Kis-a' 'Js-l' 'Ki-hu' 'Jms-p' 'Ks-as' 'P-pu' 'Kis-ayb' 'Qp-col'\n",
      " 'N-dmri' 'PN-o/a' 'Qp-b/c-anda' 'NQ-b-and' None 'PP-cbc/m-gn,gra'\n",
      " 'NP-cbc-gnmg' 'PP-cbc-gn' 'MNP-cbc-pz,esq' 'Qp-al' 'Qh-al' 'Q-gl' 'Q-bi'\n",
      " 'PN-m' 'Np-mi' 'Ks-bc/t-gd' 'O-bac-gr' 'O-bac-di' 'Ks-bc/t-tn'\n",
      " 'Ks-bc/t-gr' 'Ks-bc/t-di' 'Ki-di' 'Ki-gb' 'Ks-bc/t-gr,tn' 'P-tn'\n",
      " 'Pe-hu/gr-to' 'Pp-tn,gd' 'N-dq' 'P-p-di' 'PN-ca-di' 'Jm-ca' 'Jm-so'\n",
      " 'Peo-h/t' 'Nm-pi' 'Nm-cam' 'P-so' 'Js-g' 'D-c' 'Q-qm-tr' 'Q-la' 'Ks-se'\n",
      " 'Peo-h/qu' 'Peo-h/h' 'Nm-al' 'N-and' 'Np-se' 'Np-ar' 'PN-o/m' 'N-da'\n",
      " 'Nmp-ch-da' 'P-and' 'Nm-na/da' 'Nm-ta/da' 'Ks-da' 'Nm-si' 'Nm-js-and'\n",
      " 'Nm-ja-da' 'Nm-tut-ri' 'N-cat-da' 'N-h-da' 'N-pu-prda' 'N-qu-and'\n",
      " 'Qp-b/am-tcri' 'NQ-b-tb' 'Nm-ich' 'PN-o/sr' 'Nm-p' 'PN-t' 'Ji-cho'\n",
      " 'Js-gu' 'Qp-pu' 'Qh-an' 'Nm-ma' 'Nm-ma/i' 'N-co' 'Nm-ca']\n"
     ]
    }
   ],
   "source": [
    "print(pd.unique(Hydrogeologic_units[\"NAME\"]))\n",
    "Hydrogeologic_units[\"NAME\"] = Hydrogeologic_units[\"NAME\"].str.strip()\n",
    "print(pd.unique(Hydrogeologic_units[\"NAME\"]))"
   ]
  },
  {
   "cell_type": "code",
   "execution_count": 17,
   "id": "81cddf71-3c2b-4a39-9f50-a9dd4b4bad99",
   "metadata": {
    "editable": true,
    "slideshow": {
     "slide_type": ""
    },
    "tags": []
   },
   "outputs": [],
   "source": [
    "replacements = {\n",
    "    \"Kis-a\": \"Kis-ar\",\n",
    "    \"Js-l\": \"Js-la\",\n",
    "    \"Jm-p\": \"Jm-pu\",\n",
    "    \"Qp-b/c-anda\": \"Q-br2\",\n",
    "    \"NQ-b-and\": \"N-br2\",\n",
    "    \"NP-cbc-gnmg\": \"Js-la\",\n",
    "    \"Jms-p\": \"Jms-pu\",\n",
    "    \"Peo-h/t\": \"Peo-hu/t\",\n",
    "    \"Js-g\": \"Js-gr\",\n",
    "    \"Q-la\": \"Qpl-la\",\n",
    "    \"Peo-h/qu\": \"Peo-hu/qu\",\n",
    "    \"Peo-h/h\": \"Peo-hu/h\",\n",
    "    \"N-and\": \"Js-la\",\n",
    "    \"Nmp-ch-da\": \"N-da\",\n",
    "    \"\\tPeo-hu/h\": \"Peo-hu/h\",\n",
    "    \"Nm-na/da\": \"N-da\",\n",
    "    \"Nm-ta/da\": \"N-da\",\n",
    "    \"Qp-b/am-tcri\": \"Q-br1\",\n",
    "    \"NQ-b-tb\": \"Q-br1\"\n",
    "}\n",
    "Hydrogeologic_units[\"NAME\"] = Hydrogeologic_units[\"NAME\"].replace(replacements)\n",
    "Hydrogeologic_units.loc[Hydrogeologic_units[\"NAME_2\"] == \"PN-o\", \"NAME\"] = \"PN-o\""
   ]
  },
  {
   "cell_type": "code",
   "execution_count": 72,
   "id": "c7d7b873-b29a-400b-9aeb-c40ad2e95595",
   "metadata": {},
   "outputs": [
    {
     "name": "stderr",
     "output_type": "stream",
     "text": [
      "C:\\Users\\Karles\\AppData\\Local\\Temp\\ipykernel_4152\\1738415989.py:15: RuntimeWarning: Mean of empty slice\n",
      "  promedios = [np.nanmean(paired_vals[i:i+2]) for i in range(0, len(paired_vals), 2)]\n",
      "C:\\Users\\Karles\\AppData\\Local\\Temp\\ipykernel_4152\\1738415989.py:16: RuntimeWarning: Mean of empty slice\n",
      "  return np.nanmean(unique_vals + promedios)\n"
     ]
    }
   ],
   "source": [
    "litologia = pd.read_excel(\"GEOCATMIN/resultados.xlsx\", sheet_name=5)\n",
    "nC = litologia.shape[1]\n",
    "\n",
    "def calc_min(row):\n",
    "    valores = row.iloc[2:nC]\n",
    "    return valores.dropna().min() if not valores.dropna().empty else np.nan\n",
    "\n",
    "def calc_max(row):\n",
    "    valores = row.iloc[2:nC]\n",
    "    return valores.dropna().max() if not valores.dropna().empty else np.nan\n",
    "\n",
    "def calc_prom(row):\n",
    "    unique_vals = row.iloc[2:4].dropna().tolist()\n",
    "    paired_vals = row.iloc[4:nC]\n",
    "    promedios = [np.nanmean(paired_vals[i:i+2]) for i in range(0, len(paired_vals), 2)]\n",
    "    return np.nanmean(unique_vals + promedios)\n",
    "\n",
    "litologia[\"Min\"] = litologia.apply(calc_min, axis=1)\n",
    "litologia[\"Max\"] = litologia.apply(calc_max, axis=1)\n",
    "litologia[\"Prom\"] = litologia.apply(calc_prom, axis=1)\n",
    "litologia = litologia[[\"Formación geológica\", \"Min\", \"Max\", \"Prom\"]]\n",
    "litologia.rename(columns={\"Formación geológica\": \"NAME\"}, inplace=True)\n",
    "\n",
    "Hydrogeologic_units_join = Hydrogeologic_units.merge(litologia, on=\"NAME\", how=\"left\")\n",
    "Hydrogeologic_units_join = Hydrogeologic_units_join[[\"NAME\", \"Min\", \"Max\", \"Prom\", \"geometry\"]]\n",
    "Hydrogeologic_units_join[\"geometry\"] = Hydrogeologic_units_join[\"geometry\"].apply(make_valid)\n",
    "\n",
    "Hydrogeologic_units_join.to_file(\"1.PRODUCTOS/Hydrogeologic_units_join.shp\")"
   ]
  },
  {
   "cell_type": "code",
   "execution_count": 62,
   "id": "f1d42cbd-faa5-46ba-8c50-8ac864c7ad44",
   "metadata": {},
   "outputs": [],
   "source": [
    "Soil_raster_MAPSWAT_path = \"MAPSWAT/MapSWAT/SWAT_INPUT_MAPS/SOIL/SOIL.b1.tif\"\n",
    "Soil_MAPSWAT_properties = pd.read_csv(\"MAPSWAT/MapSWAT/SWAT_INPUT_MAPS/SOIL/DSOLMap_usersoil.csv\")\n",
    "#tmp2 = pd.read_csv(\"MAPSWAT/MapSWAT/SWAT_INPUT_MAPS/SOIL/DSOLMap_taxonomy.csv\")\n",
    "#tmp1.columns.values[0] = tmp2.columns.values[0] = \"SOILID\"\n",
    "#tmp1.columns.values[0] = \"SOILID\"\n",
    "#Soil_properties = tmp1.merge(tmp2, on = \"SOILID\", how = \"left\")\n",
    "#print(list(Soil_properties.columns))"
   ]
  },
  {
   "cell_type": "code",
   "execution_count": 73,
   "id": "0b01cb14-7ec8-448c-b33e-30a447b42511",
   "metadata": {},
   "outputs": [],
   "source": [
    "with rasterio.open(Soil_raster_MAPSWAT_path) as src:\n",
    "    image = src.read(1)\n",
    "    mask = image != src.nodata\n",
    "    transform = src.transform\n",
    "\n",
    "    results = (\n",
    "        {\"properties\": {\"OBJECTID\": v}, \"geometry\": s}\n",
    "        for s, v in shapes(image, mask=mask, transform=transform)\n",
    "    )\n",
    "\n",
    "Soil_shp_MAPSWAT = gpd.GeoDataFrame.from_features(results)\n",
    "Soil_shp_MAPSWAT.crs = src.crs\n",
    "Soil_shp_MAPSWAT = Soil_shp_MAPSWAT.dissolve(by=\"OBJECTID\")\n",
    "Soil_shp_MAPSWAT = Soil_shp_MAPSWAT.merge(Soil_MAPSWAT_properties, on = \"OBJECTID\", how = \"left\")\n",
    "\n",
    "Soil_shp_MAPSWAT.to_file(\"1.PRODUCTOS/SOIL_MAPSWAT.shp\")"
   ]
  },
  {
   "cell_type": "code",
   "execution_count": 75,
   "id": "e02b8ceb-5d3d-4f9b-b4f3-3e7d3ad26d40",
   "metadata": {},
   "outputs": [],
   "source": [
    "SOIL_MAPSWAT = gpd.read_file(\"1.PRODUCTOS/SOIL_MAPSWAT.shp\")\n",
    "Hydrogeologic_units_join = gpd.read_file(\"1.PRODUCTOS/Hydrogeologic_units_join.shp\")\n",
    "Hydrogeologic_units_join_dis = Hydrogeologic_units_join.dissolve()"
   ]
  },
  {
   "cell_type": "code",
   "execution_count": 76,
   "id": "d10c178b-eaec-4fec-a0b3-9363f7f578f8",
   "metadata": {},
   "outputs": [],
   "source": [
    "MAPSWAT_Hydrogeologic_inte = gpd.overlay(SOIL_MAPSWAT, Hydrogeologic_units_join, how='intersection')"
   ]
  },
  {
   "cell_type": "code",
   "execution_count": 77,
   "id": "8a03cfeb-7b8e-4051-98bd-f6c33aa6d85f",
   "metadata": {},
   "outputs": [],
   "source": [
    "MAPSWAT_Hydrogeologic_diff = gpd.overlay(SOIL_MAPSWAT, Hydrogeologic_units_join_dis, how='difference')"
   ]
  },
  {
   "cell_type": "code",
   "execution_count": 78,
   "id": "b43b1e9b-8dc1-4d0b-ac0c-168a7302d83f",
   "metadata": {},
   "outputs": [],
   "source": [
    "# (3) Unión de shp3 y shp4\n",
    "SOIL_map = gpd.GeoDataFrame(pd.concat([MAPSWAT_Hydrogeologic_inte, MAPSWAT_Hydrogeologic_diff], ignore_index=True), crs=SOIL_MAPSWAT.crs)\n",
    "\n",
    "# (Opcional) Guardar resultado\n",
    "SOIL_map.to_file(\"1.PRODUCTOS/SOIL_map.shp\")"
   ]
  }
 ],
 "metadata": {
  "kernelspec": {
   "display_name": "Python 3 (ipykernel)",
   "language": "python",
   "name": "python3"
  },
  "language_info": {
   "codemirror_mode": {
    "name": "ipython",
    "version": 3
   },
   "file_extension": ".py",
   "mimetype": "text/x-python",
   "name": "python",
   "nbconvert_exporter": "python",
   "pygments_lexer": "ipython3",
   "version": "3.10.18"
  }
 },
 "nbformat": 4,
 "nbformat_minor": 5
}
